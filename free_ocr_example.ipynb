{
  "cells": [
    {
      "cell_type": "markdown",
      "metadata": {
        "id": "view-in-github",
        "colab_type": "text"
      },
      "source": [
        "<a href=\"https://colab.research.google.com/github/AI-FREE-Team/free-ocr/blob/main/free_ocr_example.ipynb\" target=\"_parent\"><img src=\"https://colab.research.google.com/assets/colab-badge.svg\" alt=\"Open In Colab\"/></a>"
      ]
    },
    {
      "cell_type": "markdown",
      "source": [
        "![人工智慧 - 自由團隊](https://raw.githubusercontent.com/chenkenanalytic/img/master/af/aifreeteam.png)\n",
        "\n",
        "<center>Welcome to the free_ocr example! 歡迎使用 free_ocr 的範例程式碼！ </center>\n",
        "\n",
        "<br>\n",
        "<center>Github Repo: <a href=\"https://github.com/AI-FREE-Team/free-ocr\">AI-FREE-Team/free_ocr</a></center>\n",
        "<br>\n",
        "<center>(Author: Chen Ken；Date of published: 2024/11/19；AI . FREE Team Website: https://www.aifreeteam.com/)</center>\n",
        "<br>\n"
      ],
      "metadata": {
        "id": "pFOzHmzUC42-"
      }
    },
    {
      "cell_type": "code",
      "source": [
        "# 安裝 free_ocr 套件\n",
        "!pip install free_ocr"
      ],
      "metadata": {
        "colab": {
          "base_uri": "https://localhost:8080/"
        },
        "id": "YLGaWkoRyifd",
        "outputId": "bca5ece6-af23-49d8-c347-2a8ae64fb1c6"
      },
      "execution_count": null,
      "outputs": [
        {
          "output_type": "stream",
          "name": "stdout",
          "text": [
            "Collecting free_ocr\n",
            "  Downloading free_ocr-0.1.0-py3-none-any.whl.metadata (594 bytes)\n",
            "Requirement already satisfied: requests>=2.0.0 in /usr/local/lib/python3.10/dist-packages (from free_ocr) (2.32.3)\n",
            "Requirement already satisfied: charset-normalizer<4,>=2 in /usr/local/lib/python3.10/dist-packages (from requests>=2.0.0->free_ocr) (3.4.0)\n",
            "Requirement already satisfied: idna<4,>=2.5 in /usr/local/lib/python3.10/dist-packages (from requests>=2.0.0->free_ocr) (3.10)\n",
            "Requirement already satisfied: urllib3<3,>=1.21.1 in /usr/local/lib/python3.10/dist-packages (from requests>=2.0.0->free_ocr) (2.2.3)\n",
            "Requirement already satisfied: certifi>=2017.4.17 in /usr/local/lib/python3.10/dist-packages (from requests>=2.0.0->free_ocr) (2024.8.30)\n",
            "Downloading free_ocr-0.1.0-py3-none-any.whl (2.8 kB)\n",
            "Installing collected packages: free_ocr\n",
            "Successfully installed free_ocr-0.1.0\n"
          ]
        }
      ]
    },
    {
      "cell_type": "code",
      "source": [
        "# 下載 Repo\n",
        "!git clone https://github.com/AI-FREE-Team/free-ocr"
      ],
      "metadata": {
        "colab": {
          "base_uri": "https://localhost:8080/"
        },
        "id": "e2GKyeg0CCWP",
        "outputId": "944a70b1-b84a-4349-eb5b-559526f61d81"
      },
      "execution_count": null,
      "outputs": [
        {
          "output_type": "stream",
          "name": "stdout",
          "text": [
            "Cloning into 'free-ocr'...\n",
            "remote: Enumerating objects: 24, done.\u001b[K\n",
            "remote: Counting objects: 100% (24/24), done.\u001b[K\n",
            "remote: Compressing objects: 100% (17/17), done.\u001b[K\n",
            "remote: Total 24 (delta 5), reused 0 (delta 0), pack-reused 0 (from 0)\u001b[K\n",
            "Receiving objects: 100% (24/24), 107.08 KiB | 4.12 MiB/s, done.\n",
            "Resolving deltas: 100% (5/5), done.\n"
          ]
        }
      ]
    },
    {
      "cell_type": "markdown",
      "source": [],
      "metadata": {
        "id": "oBDtSu-zC3JA"
      }
    },
    {
      "cell_type": "code",
      "source": [
        "# 導入套件\n",
        "from free_ocr import ocr\n",
        "\n",
        "# 輸入 API key\n",
        "api_key = \"your-together-api-key\"\n",
        "\n",
        "# 針對圖片進行 OCR\n",
        "result = ocr(\"/content/free-ocr/trader-joes-receipt.jpg\", api_key=api_key)\n",
        "\n",
        "# 查看辨識結果\n",
        "print(result)"
      ],
      "metadata": {
        "colab": {
          "base_uri": "https://localhost:8080/"
        },
        "id": "qFFOBAC2ylf2",
        "outputId": "5e14f7e5-1a3a-46e2-9d57-757f73f2acd9"
      },
      "execution_count": null,
      "outputs": [
        {
          "output_type": "stream",
          "name": "stdout",
          "text": [
            "The provided image is a receipt from Trader Joe's, featuring the store's name and address at the top. The receipt includes a list of purchased items with their respective prices, totaling $26.83. The customer paid using a gift card and a Visa debit card, resulting in a balance of $0.00.\n",
            "\n",
            "**Trader Joe's Receipt**\n",
            "\n",
            "*   **Store Information**\n",
            "    *   **Name:** Trader Joe's\n",
            "    *   **Address:** 785 Oak Grove Road, Concord, CA 94518\n",
            "    *   **Phone Number:** 925-521-1134\n",
            "*   **Purchase Details**\n",
            "    *   **Items:**\n",
            "        *   Sour Cream & Onion Corn ($2.49)\n",
            "        *   Sliced Whole Wheat Bread ($2.49)\n",
            "        *   Rice Cakes Korean Tteok ($3.99)\n",
            "        *   Squash Zucchini 1.5 lb ($2.49)\n",
            "        *   Greens Kale 10 oz ($1.99)\n",
            "        *   Squash Spaghetti Each ($2.49)\n",
            "        *   50% Less Salt Roasted SA ($2.99)\n",
            "        *   Banana Each ($1.14)\n",
            "        *   Pasta Gnocchi Pranzo ($1.99)\n",
            "        *   Org Coconut Milk ($1.69)\n",
            "        *   Org Yellow Mustard ($1.79)\n",
            "        *   HOL Traditional Active D ($1.29)\n",
            "    *   **Total:** $26.83\n",
            "    *   **Payment Method:**\n",
            "        *   **Gift Card:** $25.00\n",
            "        *   **Visa Debit:** $1.83\n",
            "    *   **Balance:** $0.00\n"
          ]
        }
      ]
    }
  ],
  "metadata": {
    "colab": {
      "provenance": [],
      "include_colab_link": true
    },
    "kernelspec": {
      "display_name": "Python 3",
      "name": "python3"
    }
  },
  "nbformat": 4,
  "nbformat_minor": 0
}